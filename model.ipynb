{
 "cells": [
  {
   "cell_type": "markdown",
   "metadata": {},
   "source": [
    "### Regression Model Exercises\n",
    "\n",
    "\n",
    "1. Select a dataset with a continuous target variable.\n",
    "\n",
    "2. Be sure your data is prepared (no missing values, numeric datatypes) and split into samples.\n",
    "\n",
    "3.  Work through all of the steps outlined in the lesson, from setting the baseline to selected a model and evaluating the final model on your test data."
   ]
  },
  {
   "cell_type": "code",
   "execution_count": 1,
   "metadata": {},
   "outputs": [],
   "source": [
    "import pandas as pd \n",
    "import numpy as np\n",
    "\n",
    "import matplotlib.pyplot as plt\n",
    "\n",
    "# modeling methods\n",
    "from sklearn.metrics import mean_squared_error\n",
    "from sklearn.linear_model import LinearRegression, LassoLars, TweedieRegressor\n",
    "from sklearn.preprocessing import PolynomialFeatures\n",
    "\n",
    "import warnings\n",
    "warnings.filterwarnings(\"ignore\")\n",
    "\n",
    "import utilities\n",
    "\n",
    "import pydataset\n",
    "from pydataset import data"
   ]
  },
  {
   "cell_type": "markdown",
   "metadata": {},
   "source": [
    "### Acquire Data"
   ]
  },
  {
   "cell_type": "code",
   "execution_count": 2,
   "metadata": {},
   "outputs": [
    {
     "data": {
      "text/html": [
       "<div>\n",
       "<style scoped>\n",
       "    .dataframe tbody tr th:only-of-type {\n",
       "        vertical-align: middle;\n",
       "    }\n",
       "\n",
       "    .dataframe tbody tr th {\n",
       "        vertical-align: top;\n",
       "    }\n",
       "\n",
       "    .dataframe thead th {\n",
       "        text-align: right;\n",
       "    }\n",
       "</style>\n",
       "<table border=\"1\" class=\"dataframe\">\n",
       "  <thead>\n",
       "    <tr style=\"text-align: right;\">\n",
       "      <th></th>\n",
       "      <th>Fertility</th>\n",
       "      <th>Agriculture</th>\n",
       "      <th>Examination</th>\n",
       "      <th>Education</th>\n",
       "      <th>Catholic</th>\n",
       "      <th>Infant.Mortality</th>\n",
       "    </tr>\n",
       "  </thead>\n",
       "  <tbody>\n",
       "    <tr>\n",
       "      <th>Courtelary</th>\n",
       "      <td>80.2</td>\n",
       "      <td>17.0</td>\n",
       "      <td>15</td>\n",
       "      <td>12</td>\n",
       "      <td>9.96</td>\n",
       "      <td>22.2</td>\n",
       "    </tr>\n",
       "    <tr>\n",
       "      <th>Delemont</th>\n",
       "      <td>83.1</td>\n",
       "      <td>45.1</td>\n",
       "      <td>6</td>\n",
       "      <td>9</td>\n",
       "      <td>84.84</td>\n",
       "      <td>22.2</td>\n",
       "    </tr>\n",
       "    <tr>\n",
       "      <th>Franches-Mnt</th>\n",
       "      <td>92.5</td>\n",
       "      <td>39.7</td>\n",
       "      <td>5</td>\n",
       "      <td>5</td>\n",
       "      <td>93.40</td>\n",
       "      <td>20.2</td>\n",
       "    </tr>\n",
       "    <tr>\n",
       "      <th>Moutier</th>\n",
       "      <td>85.8</td>\n",
       "      <td>36.5</td>\n",
       "      <td>12</td>\n",
       "      <td>7</td>\n",
       "      <td>33.77</td>\n",
       "      <td>20.3</td>\n",
       "    </tr>\n",
       "    <tr>\n",
       "      <th>Neuveville</th>\n",
       "      <td>76.9</td>\n",
       "      <td>43.5</td>\n",
       "      <td>17</td>\n",
       "      <td>15</td>\n",
       "      <td>5.16</td>\n",
       "      <td>20.6</td>\n",
       "    </tr>\n",
       "  </tbody>\n",
       "</table>\n",
       "</div>"
      ],
      "text/plain": [
       "              Fertility  Agriculture  Examination  Education  Catholic  \\\n",
       "Courtelary         80.2         17.0           15         12      9.96   \n",
       "Delemont           83.1         45.1            6          9     84.84   \n",
       "Franches-Mnt       92.5         39.7            5          5     93.40   \n",
       "Moutier            85.8         36.5           12          7     33.77   \n",
       "Neuveville         76.9         43.5           17         15      5.16   \n",
       "\n",
       "              Infant.Mortality  \n",
       "Courtelary                22.2  \n",
       "Delemont                  22.2  \n",
       "Franches-Mnt              20.2  \n",
       "Moutier                   20.3  \n",
       "Neuveville                20.6  "
      ]
     },
     "execution_count": 2,
     "metadata": {},
     "output_type": "execute_result"
    }
   ],
   "source": [
    "df = data(\"swiss\")\n",
    "df.head()\n"
   ]
  },
  {
   "cell_type": "code",
   "execution_count": 3,
   "metadata": {},
   "outputs": [
    {
     "name": "stdout",
     "output_type": "stream",
     "text": [
      "<class 'pandas.core.frame.DataFrame'>\n",
      "Index: 47 entries, Courtelary to Rive Gauche\n",
      "Data columns (total 6 columns):\n",
      " #   Column            Non-Null Count  Dtype  \n",
      "---  ------            --------------  -----  \n",
      " 0   Fertility         47 non-null     float64\n",
      " 1   Agriculture       47 non-null     float64\n",
      " 2   Examination       47 non-null     int64  \n",
      " 3   Education         47 non-null     int64  \n",
      " 4   Catholic          47 non-null     float64\n",
      " 5   Infant.Mortality  47 non-null     float64\n",
      "dtypes: float64(4), int64(2)\n",
      "memory usage: 2.6+ KB\n"
     ]
    }
   ],
   "source": [
    "df.info()"
   ]
  },
  {
   "cell_type": "markdown",
   "metadata": {},
   "source": [
    "### Split and Scale Data"
   ]
  },
  {
   "cell_type": "code",
   "execution_count": 4,
   "metadata": {},
   "outputs": [],
   "source": [
    "#Split data into train, validate and test\n",
    "\n",
    "X_train, y_train, X_validate, y_validate, X_test, y_test = utilities.train_validate_test_split(df, 'Fertility')"
   ]
  },
  {
   "cell_type": "code",
   "execution_count": null,
   "metadata": {},
   "outputs": [],
   "source": []
  },
  {
   "cell_type": "code",
   "execution_count": 5,
   "metadata": {},
   "outputs": [],
   "source": [
    "# Scale numeric_columns\n",
    "\n",
    "numeric_cols = ['Infant.Mortality', 'Agriculture', 'Examination', 'Education', 'Catholic']\n",
    "target = ['Fertility']\n",
    "\n",
    "X_train_scaled, X_validate_scaled, X_test_scaled = utilities.min_max_scale(X_train, X_validate, X_test, numeric_cols)"
   ]
  },
  {
   "cell_type": "code",
   "execution_count": 6,
   "metadata": {},
   "outputs": [
    {
     "data": {
      "text/html": [
       "<div>\n",
       "<style scoped>\n",
       "    .dataframe tbody tr th:only-of-type {\n",
       "        vertical-align: middle;\n",
       "    }\n",
       "\n",
       "    .dataframe tbody tr th {\n",
       "        vertical-align: top;\n",
       "    }\n",
       "\n",
       "    .dataframe thead th {\n",
       "        text-align: right;\n",
       "    }\n",
       "</style>\n",
       "<table border=\"1\" class=\"dataframe\">\n",
       "  <thead>\n",
       "    <tr style=\"text-align: right;\">\n",
       "      <th></th>\n",
       "      <th>Infant.Mortality</th>\n",
       "      <th>Agriculture</th>\n",
       "      <th>Examination</th>\n",
       "      <th>Education</th>\n",
       "      <th>Catholic</th>\n",
       "    </tr>\n",
       "  </thead>\n",
       "  <tbody>\n",
       "    <tr>\n",
       "      <th>Rolle</th>\n",
       "      <td>0.122449</td>\n",
       "      <td>0.647561</td>\n",
       "      <td>0.40625</td>\n",
       "      <td>0.290323</td>\n",
       "      <td>0.054508</td>\n",
       "    </tr>\n",
       "    <tr>\n",
       "      <th>Lavaux</th>\n",
       "      <td>0.500000</td>\n",
       "      <td>0.796341</td>\n",
       "      <td>0.50000</td>\n",
       "      <td>0.258065</td>\n",
       "      <td>0.004508</td>\n",
       "    </tr>\n",
       "    <tr>\n",
       "      <th>Nyone</th>\n",
       "      <td>0.163265</td>\n",
       "      <td>0.526829</td>\n",
       "      <td>0.59375</td>\n",
       "      <td>0.354839</td>\n",
       "      <td>0.130533</td>\n",
       "    </tr>\n",
       "    <tr>\n",
       "      <th>Conthey</th>\n",
       "      <td>0.000000</td>\n",
       "      <td>0.953659</td>\n",
       "      <td>0.00000</td>\n",
       "      <td>0.032258</td>\n",
       "      <td>0.997029</td>\n",
       "    </tr>\n",
       "    <tr>\n",
       "      <th>Yverdon</th>\n",
       "      <td>0.755102</td>\n",
       "      <td>0.509756</td>\n",
       "      <td>0.37500</td>\n",
       "      <td>0.225806</td>\n",
       "      <td>0.037910</td>\n",
       "    </tr>\n",
       "  </tbody>\n",
       "</table>\n",
       "</div>"
      ],
      "text/plain": [
       "         Infant.Mortality  Agriculture  Examination  Education  Catholic\n",
       "Rolle            0.122449     0.647561      0.40625   0.290323  0.054508\n",
       "Lavaux           0.500000     0.796341      0.50000   0.258065  0.004508\n",
       "Nyone            0.163265     0.526829      0.59375   0.354839  0.130533\n",
       "Conthey          0.000000     0.953659      0.00000   0.032258  0.997029\n",
       "Yverdon          0.755102     0.509756      0.37500   0.225806  0.037910"
      ]
     },
     "execution_count": 6,
     "metadata": {},
     "output_type": "execute_result"
    }
   ],
   "source": [
    "X_train_scaled.head()"
   ]
  },
  {
   "cell_type": "code",
   "execution_count": 7,
   "metadata": {},
   "outputs": [
    {
     "data": {
      "image/png": "[encoded data removed]",
      "text/plain": [
       "<Figure size 432x288 with 1 Axes>"
      ]
     },
     "metadata": {
      "needs_background": "light"
     },
     "output_type": "display_data"
    }
   ],
   "source": [
    "# plot histogram to see distribution of target variable\n",
    "plt.hist(y_train)\n",
    "plt.show()"
   ]
  },
  {
   "cell_type": "markdown",
   "metadata": {},
   "source": [
    "### Establish Baseline  (check mean and median)"
   ]
  },
  {
   "cell_type": "code",
   "execution_count": 13,
   "metadata": {},
   "outputs": [],
   "source": [
    "# Create dataframes of y_train and y_validate , so we can append new columns with predicted values\n",
    "y_train = pd.DataFrame(y_train)\n",
    "y_validate = pd.DataFrame(y_validate)\n",
    "\n",
    "# Predict mean\n",
    "F_pred_mean = y_train['Fertility'].mean()\n",
    "y_train['F_pred_mean'] = F_pred_mean\n",
    "y_validate['F_pred_mean']= F_pred_mean"
   ]
  },
  {
   "cell_type": "code",
   "execution_count": 14,
   "metadata": {},
   "outputs": [],
   "source": [
    "# Predict median\n",
    "F_pred_median = y_train['Fertility'].median()\n",
    "y_train['F_pred_median'] = F_pred_median\n",
    "y_validate['F_pred_median']= F_pred_median"
   ]
  },
  {
   "cell_type": "code",
   "execution_count": 18,
   "metadata": {},
   "outputs": [
    {
     "name": "stdout",
     "output_type": "stream",
     "text": [
      "RMSE using Mean\n",
      "Train/In-Sample:   47.76 \n",
      "Validate/Out-of-Sample:   109.24\n",
      "RMSE using Median\n",
      "Train/In-Sample:   47.78 \n",
      "Validate/Out-of-Sample:   109.89\n"
     ]
    }
   ],
   "source": [
    "# Find RMSE of IM_pred_mean\n",
    "rmse_train = mean_squared_error(y_train.Fertility, y_train.F_pred_mean)**1/2\n",
    "rmse_validate = mean_squared_error(y_validate.Fertility, y_validate.F_pred_mean)**1/2\n",
    "\n",
    "print(\"RMSE using Mean\\nTrain/In-Sample:  \", round(rmse_train, 2),\n",
    "     \"\\nValidate/Out-of-Sample:  \", round(rmse_validate, 2,))\n",
    "\n",
    "# Find RMSE of IM_pred_median\n",
    "rmse_train = mean_squared_error(y_train.Fertility, y_train.F_pred_median)**1/2\n",
    "rmse_validate = mean_squared_error(y_validate.Fertility, y_validate.F_pred_median)**1/2\n",
    "\n",
    "print(\"RMSE using Median\\nTrain/In-Sample:  \", round(rmse_train, 2),\n",
    "     \"\\nValidate/Out-of-Sample:  \", round(rmse_validate, 2))\n",
    "\n",
    "\n",
    "\n"
   ]
  },
  {
   "cell_type": "code",
   "execution_count": 22,
   "metadata": {},
   "outputs": [
    {
     "data": {
      "image/png": "[encoded data removed]",
      "text/plain": [
       "<Figure size 432x288 with 1 Axes>"
      ]
     },
     "metadata": {
      "needs_background": "light"
     },
     "output_type": "display_data"
    }
   ],
   "source": [
    "# plot to visualize actual v. predicted\n",
    "\n",
    "plt.hist(y_train.Fertility, color = 'red', alpha = .5, label = \"Actual Fertility\")\n",
    "plt.hist(y_train.F_pred_mean, bins=1, color = 'blue', alpha = .5, rwidth=100, label = \"Predicted Fertility - Mean\")\n",
    "plt.hist(y_train.F_pred_median, bins=1, color = 'gold', alpha = .5, rwidth=100, label = \"Predicted Fertility - Median\")\n",
    "plt.legend()\n",
    "plt.show()"
   ]
  },
  {
   "cell_type": "markdown",
   "metadata": {},
   "source": [
    "### Linear Regression (OLS)"
   ]
  },
  {
   "cell_type": "code",
   "execution_count": 23,
   "metadata": {},
   "outputs": [],
   "source": [
    "# make the model\n",
    "lm = LinearRegression(normalize=True)\n",
    "\n",
    "#fit the model to training data. \n",
    "lm.fit(X_train, y_train.Fertility)\n",
    "\n",
    "#predict train\n",
    "y_train['Fertility_pred_lm'] = lm.predict(X_train)"
   ]
  },
  {
   "cell_type": "code",
   "execution_count": 24,
   "metadata": {},
   "outputs": [],
   "source": [
    "# evaluate: RMSE\n",
    "rmse_train = mean_squared_error(y_train.Fertility, y_train.Fertility_pred_lm)**1/2"
   ]
  },
  {
   "cell_type": "code",
   "execution_count": 25,
   "metadata": {},
   "outputs": [],
   "source": [
    "#predict validate\n",
    "y_validate['Fertility_pred_lm'] = lm.predict(X_validate)"
   ]
  },
  {
   "cell_type": "code",
   "execution_count": 26,
   "metadata": {},
   "outputs": [],
   "source": [
    "# evaluate: RMSE\n",
    "rmse_validate = mean_squared_error(y_validate.Fertility, y_validate.Fertility_pred_lm)**1/2"
   ]
  },
  {
   "cell_type": "code",
   "execution_count": 27,
   "metadata": {},
   "outputs": [
    {
     "name": "stdout",
     "output_type": "stream",
     "text": [
      "RMSE for OLS using LinearRegression\n",
      "Training In-Sample:   10.447217249973203 \n",
      "Validation/Out-of-Sample:   73.6016683323816\n"
     ]
    }
   ],
   "source": [
    "print(\"RMSE for OLS using LinearRegression\\nTraining In-Sample:  \", rmse_train, \"\\nValidation/Out-of-Sample:  \", rmse_validate)"
   ]
  },
  {
   "cell_type": "markdown",
   "metadata": {},
   "source": [
    "### LassoLars"
   ]
  },
  {
   "cell_type": "code",
   "execution_count": 34,
   "metadata": {},
   "outputs": [],
   "source": [
    "#create the model\n",
    "lars = LassoLars(alpha = 1.0)\n",
    "\n",
    "#fit the model to training data\n",
    "lars.fit(X_train, y_train.Fertility)\n",
    "\n",
    "#predict train\n",
    "y_train['Fertility_pred_lars'] = lars.predict(X_train)"
   ]
  },
  {
   "cell_type": "code",
   "execution_count": 35,
   "metadata": {},
   "outputs": [],
   "source": [
    "#evaluate: rmse\n",
    "rmse_train = mean_squared_error(y_train.Fertility,y_train.Fertility_pred_lars)**1/2"
   ]
  },
  {
   "cell_type": "code",
   "execution_count": 36,
   "metadata": {},
   "outputs": [
    {
     "name": "stdout",
     "output_type": "stream",
     "text": [
      "RMSE for Lasso + Lars\n",
      "Training\\In-Sample:   39.61201133380877 \n",
      "Validation/Out-of-Sample:   106.3445277084357\n"
     ]
    }
   ],
   "source": [
    "#predict validate\n",
    "y_validate['Fertility_pred_lars'] = lars.predict(X_validate)\n",
    "\n",
    "#evaluate: rmse\n",
    "rmse_validate = mean_squared_error(y_validate.Fertility,y_validate.Fertility_pred_lars)**1/2\n",
    "\n",
    "print(\"RMSE for Lasso + Lars\\nTraining\\In-Sample:  \", rmse_train, \"\\nValidation/Out-of-Sample:  \", rmse_validate)\n"
   ]
  },
  {
   "cell_type": "code",
   "execution_count": null,
   "metadata": {},
   "outputs": [],
   "source": []
  },
  {
   "cell_type": "markdown",
   "metadata": {},
   "source": [
    "### TweedieRegressor (GLM)"
   ]
  },
  {
   "cell_type": "code",
   "execution_count": 39,
   "metadata": {},
   "outputs": [
    {
     "name": "stdout",
     "output_type": "stream",
     "text": [
      "RMSE for GLM using Tweedie, power = 1 & alpha = 0\n",
      "Training/In-Sample:   10.036747718677738 \n",
      "Validation/Out-of-Sample:   74.05882950990832\n"
     ]
    }
   ],
   "source": [
    "#create the model object\n",
    "glm = TweedieRegressor(power=1, alpha=0)\n",
    "\n",
    "#fit the model to training data\n",
    "glm.fit(X_train,y_train.Fertility)\n",
    "\n",
    "#predict train\n",
    "y_train['Fertility_pred_glm']=glm.predict(X_train)\n",
    "\n",
    "#evaluate: rmse\n",
    "rmse_train = mean_squared_error(y_train.Fertility,y_train.Fertility_pred_glm)**1/2\n",
    "\n",
    "#predict validate\n",
    "y_validate['Fertility_pred_glm']=glm.predict(X_validate)\n",
    "\n",
    "#evaluate: rmse\n",
    "rmse_validate = mean_squared_error(y_validate.Fertility,y_validate.Fertility_pred_glm)**1/2\n",
    "\n",
    "print(\"RMSE for GLM using Tweedie, power = 1 & alpha = 0\\nTraining/In-Sample:  \", rmse_train, \"\\nValidation/Out-of-Sample:  \", rmse_validate)\n",
    "\n"
   ]
  },
  {
   "cell_type": "markdown",
   "metadata": {},
   "source": [
    "\n",
    "\n",
    "### Polynomial Regression - Create Polynomial Features, Then Linear Regression\n"
   ]
  },
  {
   "cell_type": "code",
   "execution_count": 42,
   "metadata": {},
   "outputs": [],
   "source": [
    "# make the polynomial fetures to get a new set of features\n",
    "pf = PolynomialFeatures(degree=2)\n",
    "\n",
    "#fit and transform X_train_scaled\n",
    "X_train_degree2 = pf.fit_transform(X_train)\n",
    "\n",
    "#transform X_validate_scaled & X_test_scaled\n",
    "X_validate_degree2 = pf.transform(X_validate)\n",
    "X_test_degree2 = pf.transform(X_test)\n",
    "\n"
   ]
  },
  {
   "cell_type": "markdown",
   "metadata": {},
   "source": [
    "#### Linear Regression"
   ]
  },
  {
   "cell_type": "code",
   "execution_count": 46,
   "metadata": {},
   "outputs": [],
   "source": [
    "# make the model\n",
    "lm2 = LinearRegression(normalize=True)\n",
    "\n",
    "#fit the model to training data. \n",
    "lm2.fit(X_train_degree2, y_train.Fertility)\n",
    "\n",
    "#predict train\n",
    "y_train['Fertility_pred_lm2'] = lm2.predict(X_train_degree2)"
   ]
  },
  {
   "cell_type": "code",
   "execution_count": 48,
   "metadata": {},
   "outputs": [],
   "source": [
    "# evaluate: RMSE\n",
    "rmse_train = mean_squared_error(y_train.Fertility, y_train.Fertility_pred_lm2)**1/2"
   ]
  },
  {
   "cell_type": "code",
   "execution_count": 49,
   "metadata": {},
   "outputs": [],
   "source": [
    "#predict validate\n",
    "y_validate['Fertility_pred_lm2'] = lm2.predict(X_validate_degree2)"
   ]
  },
  {
   "cell_type": "code",
   "execution_count": 50,
   "metadata": {},
   "outputs": [],
   "source": [
    "# evaluate: RMSE\n",
    "rmse_validate = mean_squared_error(y_validate.Fertility, y_validate.Fertility_pred_lm2)**1/2"
   ]
  },
  {
   "cell_type": "code",
   "execution_count": 51,
   "metadata": {},
   "outputs": [
    {
     "name": "stdout",
     "output_type": "stream",
     "text": [
      "RMSE for Polynomial Model, degrees=2\n",
      "Training In-Sample:   3.3524813185909874 \n",
      "Validation/Out-of-Sample:   355.310268825674\n"
     ]
    }
   ],
   "source": [
    "print(\"RMSE for Polynomial Model, degrees=2\\nTraining In-Sample:  \", rmse_train, \"\\nValidation/Out-of-Sample:  \", rmse_validate)"
   ]
  },
  {
   "cell_type": "markdown",
   "metadata": {},
   "source": [
    "### Evaluate\n",
    "\n",
    "#### Plotting Actual v. Predicted Values"
   ]
  },
  {
   "cell_type": "code",
   "execution_count": 59,
   "metadata": {},
   "outputs": [
    {
     "data": {
      "text/html": [
       "<div>\n",
       "<style scoped>\n",
       "    .dataframe tbody tr th:only-of-type {\n",
       "        vertical-align: middle;\n",
       "    }\n",
       "\n",
       "    .dataframe tbody tr th {\n",
       "        vertical-align: top;\n",
       "    }\n",
       "\n",
       "    .dataframe thead th {\n",
       "        text-align: right;\n",
       "    }\n",
       "</style>\n",
       "<table border=\"1\" class=\"dataframe\">\n",
       "  <thead>\n",
       "    <tr style=\"text-align: right;\">\n",
       "      <th></th>\n",
       "      <th>Fertility</th>\n",
       "      <th>F_pred_mean</th>\n",
       "      <th>F_pred_median</th>\n",
       "      <th>Fertility_pred_lm</th>\n",
       "      <th>Fertility_pred_lars</th>\n",
       "      <th>Fertility_pred_glm</th>\n",
       "      <th>Fertility_pred_lm2</th>\n",
       "    </tr>\n",
       "  </thead>\n",
       "  <tbody>\n",
       "    <tr>\n",
       "      <th>Moudon</th>\n",
       "      <td>65.0</td>\n",
       "      <td>71.536</td>\n",
       "      <td>71.7</td>\n",
       "      <td>75.551909</td>\n",
       "      <td>70.270910</td>\n",
       "      <td>75.176028</td>\n",
       "      <td>70.440827</td>\n",
       "    </tr>\n",
       "    <tr>\n",
       "      <th>Echallens</th>\n",
       "      <td>68.3</td>\n",
       "      <td>71.536</td>\n",
       "      <td>71.7</td>\n",
       "      <td>68.967459</td>\n",
       "      <td>70.911508</td>\n",
       "      <td>68.365149</td>\n",
       "      <td>56.529804</td>\n",
       "    </tr>\n",
       "    <tr>\n",
       "      <th>Moutier</th>\n",
       "      <td>85.8</td>\n",
       "      <td>71.536</td>\n",
       "      <td>71.7</td>\n",
       "      <td>78.065280</td>\n",
       "      <td>71.223018</td>\n",
       "      <td>77.817211</td>\n",
       "      <td>52.966604</td>\n",
       "    </tr>\n",
       "    <tr>\n",
       "      <th>Morges</th>\n",
       "      <td>65.5</td>\n",
       "      <td>71.536</td>\n",
       "      <td>71.7</td>\n",
       "      <td>58.758237</td>\n",
       "      <td>70.294021</td>\n",
       "      <td>59.420292</td>\n",
       "      <td>56.233434</td>\n",
       "    </tr>\n",
       "    <tr>\n",
       "      <th>Sierre</th>\n",
       "      <td>92.2</td>\n",
       "      <td>71.536</td>\n",
       "      <td>71.7</td>\n",
       "      <td>75.725605</td>\n",
       "      <td>73.361275</td>\n",
       "      <td>75.356502</td>\n",
       "      <td>73.448374</td>\n",
       "    </tr>\n",
       "  </tbody>\n",
       "</table>\n",
       "</div>"
      ],
      "text/plain": [
       "           Fertility  F_pred_mean  F_pred_median  Fertility_pred_lm  \\\n",
       "Moudon          65.0       71.536           71.7          75.551909   \n",
       "Echallens       68.3       71.536           71.7          68.967459   \n",
       "Moutier         85.8       71.536           71.7          78.065280   \n",
       "Morges          65.5       71.536           71.7          58.758237   \n",
       "Sierre          92.2       71.536           71.7          75.725605   \n",
       "\n",
       "           Fertility_pred_lars  Fertility_pred_glm  Fertility_pred_lm2  \n",
       "Moudon               70.270910           75.176028           70.440827  \n",
       "Echallens            70.911508           68.365149           56.529804  \n",
       "Moutier              71.223018           77.817211           52.966604  \n",
       "Morges               70.294021           59.420292           56.233434  \n",
       "Sierre               73.361275           75.356502           73.448374  "
      ]
     },
     "execution_count": 59,
     "metadata": {},
     "output_type": "execute_result"
    }
   ],
   "source": [
    "y_validate.head()\n"
   ]
  },
  {
   "cell_type": "code",
   "execution_count": 70,
   "metadata": {},
   "outputs": [
    {
     "data": {
      "image/png": "[encoded data removed]",
      "text/plain": [
       "<Figure size 1152x576 with 1 Axes>"
      ]
     },
     "metadata": {
      "needs_background": "light"
     },
     "output_type": "display_data"
    }
   ],
   "source": [
    "plt.figure(figsize=(16,8))\n",
    "plt.plot(y_validate.Fertility, y_validate.F_pred_mean, alpha=.5, color=\"gray\", label='_nolegend_')\n",
    "plt.annotate(\"Baseline: Predict Using Mean\", (16, 9.5))\n",
    "plt.plot(y_validate.Fertility, y_validate.Fertility, alpha=.5, color=\"blue\", label='_nolegend_')\n",
    "plt.annotate(\"The Ideal Line: Predicted = Actual\", (.5, 3.5), rotation=15.5)\n",
    "plt.scatter(y_validate.Fertility, y_validate.Fertility_pred_lm, \n",
    "            alpha=.5, color=\"red\", s=100, label=\"Model: LinearRegression\")\n",
    "plt.scatter(y_validate.Fertility, y_validate.Fertility_pred_glm, \n",
    "            alpha=.5, color=\"yellow\", s=100, label=\"Model: TweedieRegressor\")\n",
    "plt.scatter(y_validate.Fertility, y_validate.Fertility_pred_lm2, \n",
    "            alpha=.5, color=\"green\", s=100, label=\"Model 2nd degree Polynomial\")\n",
    "plt.legend()\n",
    "plt.xlabel(\"Actual Fertility\")\n",
    "plt.ylabel(\"Predicted Fertility\")\n",
    "plt.title(\"Where are predictions more extreme? More modest?\")\n",
    "plt.show()"
   ]
  },
  {
   "cell_type": "code",
   "execution_count": 72,
   "metadata": {},
   "outputs": [
    {
     "data": {
      "text/html": [
       "<div>\n",
       "<style scoped>\n",
       "    .dataframe tbody tr th:only-of-type {\n",
       "        vertical-align: middle;\n",
       "    }\n",
       "\n",
       "    .dataframe tbody tr th {\n",
       "        vertical-align: top;\n",
       "    }\n",
       "\n",
       "    .dataframe thead th {\n",
       "        text-align: right;\n",
       "    }\n",
       "</style>\n",
       "<table border=\"1\" class=\"dataframe\">\n",
       "  <thead>\n",
       "    <tr style=\"text-align: right;\">\n",
       "      <th></th>\n",
       "      <th>Fertility</th>\n",
       "      <th>F_pred_mean</th>\n",
       "      <th>F_pred_median</th>\n",
       "      <th>Fertility_pred_lm</th>\n",
       "      <th>Fertility_pred_lars</th>\n",
       "      <th>Fertility_pred_glm</th>\n",
       "      <th>Fertility_pred_lm2</th>\n",
       "    </tr>\n",
       "  </thead>\n",
       "  <tbody>\n",
       "    <tr>\n",
       "      <th>Moudon</th>\n",
       "      <td>65.0</td>\n",
       "      <td>71.536</td>\n",
       "      <td>71.7</td>\n",
       "      <td>75.551909</td>\n",
       "      <td>70.270910</td>\n",
       "      <td>75.176028</td>\n",
       "      <td>70.440827</td>\n",
       "    </tr>\n",
       "    <tr>\n",
       "      <th>Echallens</th>\n",
       "      <td>68.3</td>\n",
       "      <td>71.536</td>\n",
       "      <td>71.7</td>\n",
       "      <td>68.967459</td>\n",
       "      <td>70.911508</td>\n",
       "      <td>68.365149</td>\n",
       "      <td>56.529804</td>\n",
       "    </tr>\n",
       "    <tr>\n",
       "      <th>Moutier</th>\n",
       "      <td>85.8</td>\n",
       "      <td>71.536</td>\n",
       "      <td>71.7</td>\n",
       "      <td>78.065280</td>\n",
       "      <td>71.223018</td>\n",
       "      <td>77.817211</td>\n",
       "      <td>52.966604</td>\n",
       "    </tr>\n",
       "    <tr>\n",
       "      <th>Morges</th>\n",
       "      <td>65.5</td>\n",
       "      <td>71.536</td>\n",
       "      <td>71.7</td>\n",
       "      <td>58.758237</td>\n",
       "      <td>70.294021</td>\n",
       "      <td>59.420292</td>\n",
       "      <td>56.233434</td>\n",
       "    </tr>\n",
       "    <tr>\n",
       "      <th>Sierre</th>\n",
       "      <td>92.2</td>\n",
       "      <td>71.536</td>\n",
       "      <td>71.7</td>\n",
       "      <td>75.725605</td>\n",
       "      <td>73.361275</td>\n",
       "      <td>75.356502</td>\n",
       "      <td>73.448374</td>\n",
       "    </tr>\n",
       "  </tbody>\n",
       "</table>\n",
       "</div>"
      ],
      "text/plain": [
       "           Fertility  F_pred_mean  F_pred_median  Fertility_pred_lm  \\\n",
       "Moudon          65.0       71.536           71.7          75.551909   \n",
       "Echallens       68.3       71.536           71.7          68.967459   \n",
       "Moutier         85.8       71.536           71.7          78.065280   \n",
       "Morges          65.5       71.536           71.7          58.758237   \n",
       "Sierre          92.2       71.536           71.7          75.725605   \n",
       "\n",
       "           Fertility_pred_lars  Fertility_pred_glm  Fertility_pred_lm2  \n",
       "Moudon               70.270910           75.176028           70.440827  \n",
       "Echallens            70.911508           68.365149           56.529804  \n",
       "Moutier              71.223018           77.817211           52.966604  \n",
       "Morges               70.294021           59.420292           56.233434  \n",
       "Sierre               73.361275           75.356502           73.448374  "
      ]
     },
     "execution_count": 72,
     "metadata": {},
     "output_type": "execute_result"
    }
   ],
   "source": [
    "y_validate.head()"
   ]
  },
  {
   "cell_type": "markdown",
   "metadata": {},
   "source": [
    "### Residual Plots: Plotting the Errors in Predications "
   ]
  },
  {
   "cell_type": "code",
   "execution_count": 73,
   "metadata": {},
   "outputs": [
    {
     "data": {
      "image/png": "[encoded data removed]",
      "text/plain": [
       "<Figure size 1152x576 with 1 Axes>"
      ]
     },
     "metadata": {
      "needs_background": "light"
     },
     "output_type": "display_data"
    }
   ],
   "source": [
    "# y_validate.head()\n",
    "plt.figure(figsize=(16,8))\n",
    "plt.axhline(label=\"No Error\")\n",
    "plt.scatter(y_validate.Fertility, y_validate.Fertility_pred_lm - y_validate.Fertility , \n",
    "            alpha=.5, color=\"red\", s=100, label=\"Model: LinearRegression\")\n",
    "plt.scatter(y_validate.Fertility, y_validate.Fertility_pred_glm - y_validate.Fertility, \n",
    "            alpha=.5, color=\"yellow\", s=100, label=\"Model: TweedieRegressor\")\n",
    "plt.scatter(y_validate.Fertility, y_validate.Fertility_pred_lm2 - y_validate.Fertility, \n",
    "            alpha=.5, color=\"green\", s=100, label=\"Model 2nd degree Polynomial\")\n",
    "plt.legend()\n",
    "plt.xlabel(\"Actual Fertility\")\n",
    "plt.ylabel(\"Residual/Error: Predicted Fertility - Actual Fertility\")\n",
    "plt.title(\"Do the size of errors change as the actual value changes?\")\n",
    "plt.show()"
   ]
  },
  {
   "cell_type": "markdown",
   "metadata": {},
   "source": [
    "### Histograms"
   ]
  },
  {
   "cell_type": "code",
   "execution_count": 75,
   "metadata": {},
   "outputs": [
    {
     "data": {
      "image/png": "[encoded data removed]",
      "text/plain": [
       "<Figure size 1152x576 with 1 Axes>"
      ]
     },
     "metadata": {
      "needs_background": "light"
     },
     "output_type": "display_data"
    }
   ],
   "source": [
    "# plot to visualize actual vs predicted. \n",
    "plt.figure(figsize=(16,8))\n",
    "plt.hist(y_validate.Fertility, color='blue', alpha=.5, label=\"Actual Fertility\")\n",
    "plt.hist(y_validate.Fertility_pred_lm, color='red', alpha=.5, label=\"Model: LinearRegression\")\n",
    "plt.hist(y_validate.Fertility_pred_glm, color='yellow', alpha=.5, label=\"Model: TweedieRegressor\")\n",
    "plt.hist(y_validate.Fertility_pred_lm2, color='green', alpha=.5, label=\"Model 2nd degree Polynomial\")\n",
    "plt.xlabel(\"Fertility\")\n",
    "plt.title(\"Comparing the Distribution of Fertility to Distributions of Predicted Fertility for the Top Models\")\n",
    "plt.legend()\n",
    "plt.show()"
   ]
  },
  {
   "cell_type": "code",
   "execution_count": 83,
   "metadata": {},
   "outputs": [],
   "source": [
    "#data('swiss',show_doc=True)"
   ]
  },
  {
   "cell_type": "markdown",
   "metadata": {},
   "source": [
    "### Model Selection & Out-of-Sample Evaluation\n",
    "\n",
    "#### Model selected: lm (using Linear Regression)"
   ]
  },
  {
   "cell_type": "code",
   "execution_count": 85,
   "metadata": {},
   "outputs": [
    {
     "name": "stdout",
     "output_type": "stream",
     "text": [
      "RMSE for OLS Model using LinearRegression\n",
      "Out-of-Sample Performance:  57.0303564031293\n"
     ]
    }
   ],
   "source": [
    "y_test = pd.DataFrame(y_test)\n",
    "\n",
    "# predict on test\n",
    "y_test['Fertility_pred_lm'] = lm.predict(X_test)\n",
    "\n",
    "# evaluate: rmse\n",
    "rmse_test = mean_squared_error(y_test.Fertility, y_test.Fertility_pred_lm)**1/2\n",
    "\n",
    "print(\"RMSE for OLS Model using LinearRegression\\nOut-of-Sample Performance: \", rmse_test)"
   ]
  },
  {
   "cell_type": "code",
   "execution_count": null,
   "metadata": {},
   "outputs": [],
   "source": []
  }
 ],
 "metadata": {
  "kernelspec": {
   "display_name": "Python 3",
   "language": "python",
   "name": "python3"
  },
  "language_info": {
   "codemirror_mode": {
    "name": "ipython",
    "version": 3
   },
   "file_extension": ".py",
   "mimetype": "text/x-python",
   "name": "python",
   "nbconvert_exporter": "python",
   "pygments_lexer": "ipython3",
   "version": "3.8.5"
  }
 },
 "nbformat": 4,
 "nbformat_minor": 4
}
